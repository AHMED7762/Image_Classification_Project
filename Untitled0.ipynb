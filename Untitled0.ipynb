{
  "nbformat": 4,
  "nbformat_minor": 0,
  "metadata": {
    "colab": {
      "provenance": []
    },
    "kernelspec": {
      "name": "python3",
      "display_name": "Python 3"
    },
    "language_info": {
      "name": "python"
    }
  },
  "cells": [
    {
      "cell_type": "code",
      "source": [
        "# @title Default title text\n",
        "zip_path = \"/content/drive/My Drive/Food.zip\"\n",
        "import zipfile\n",
        "\n",
        "extract_path = \"/content/dataset\"  # Path where the files will be extracted\n",
        "with zipfile.ZipFile(zip_path, 'r') as zip_ref:\n",
        "    zip_ref.extractall(extract_path)\n",
        "\n",
        "    print(\"Files extracted successfully!\")\n",
        "    import os\n",
        "\n",
        "    print(\"Available folders:\")\n",
        "    print(os.listdir(\"/content/dataset\"))\n",
        "\n",
        "    print(\"Files in the 'Healthy Food' folder:\")\n",
        "    print(os.listdir(\"/content/dataset/Healthy Food\"))\n",
        "\n",
        "    print(\"Files in the 'Unhealthy Food' folder:\")\n",
        "    print(os.listdir(\"/content/dataset/Unhealthy Food\"))\n"
      ],
      "metadata": {
        "colab": {
          "base_uri": "https://localhost:8080/"
        },
        "id": "Ky-YzLoJUe64",
        "outputId": "a59f533f-b628-470b-ce94-30732e985321"
      },
      "execution_count": null,
      "outputs": [
        {
          "output_type": "stream",
          "name": "stdout",
          "text": [
            "Files extracted successfully!\n",
            "Available folders:\n",
            "['Unhealthy Food', 'Healthy Food']\n",
            "Files in the 'Healthy Food' folder:\n",
            "['dcef244385b3b9073b52fbaaaa2df2f9.jpg', '66c8a779217e27ecf46ae258570afe68.jpg', 'c76982c008cb747db21597a159df2211.jpg', '667fd1f0c9e96dd7538f729010228def.jpg', '1edb7d436c9570d30f0e71917cc9caa4.jpg', '8c6bd45969991beb64f2bf8c6353dd96.jpg', '9633ac603e0b5962382ccfa77867fcfe.jpg', '59e3b267d02b532d3a514b1c5f5ebf06.jpg', '63ca024dd627112640e31ebc9399d322.jpg', 'a84819aeb2b4b306c1a9565129e6d8f1.jpg', '80c0dc59f3cb5fe49b53313531d12aa3.jpg', 'f03da40a66473c6a17c6ee2b8dffaad1.jpg', 'd8769be51310eb5fc5424d68ec9912f0.jpg', 'ae976199176f690e48f3a24d0db6a8c2.jpg', 'ff898b04247a6b7f3129ed0de87e76f5.jpg', 'c3f0a4f89614a7d7ec7113da1852d21f.jpg', 'b4cc619871b555e812bce3258aa4badc.jpg', '857e524360468b60b13e4bcf9c505c5b.jpg', '6e1dc2315e71f1f78015a75468d9b988.jpg', 'dc8a844e8b36e56d3e9c28eadef950cd.jpg', '396ba5fc65d16482744fdde7f480eda6.jpg', '9d11f0799f9a36b4f0cccd2d5a777dc7.jpg', '5fd62eddb98bf3bdc1e18aa0092970b0.jpg', 'b2ed3f9a43d3cbeebe5a14894c394245.jpg', '9e2150a4abed9711a9e333ee6f27aa4d.jpg', 'b25810e3d75d68cd77624122394c8f32.jpg', '7fe3604a196a82f408ed7fa21cfda48d.jpg', 'cdae1f64891fa6fcf7ec7b698862f102.jpg', 'a0f88243fa19f715a15caf6f7fd39466.jpg', 'c919aa6d064e12bca31d7d0e1db07d01.jpg', '246d89ddce92ae8c203f071b1507c6b1.jpg', 'c7ece980a870ad06cc64158d7afb7712.jpg', '178450e28ed357cfa45cc14767cdb0a2.jpg', '52230f320912f3485c5328db1d40e706.jpg', '08b2203dc1d53d06698d70462bd5c173.jpg', 'b54e1d1dfd4a63fc7439287bcb6224c7.jpg', '0cbd0254ad262c0bbfccc1a684f9b6e6.jpg', 'b8c53c7c73c6fad2b62710bae7bc500e.jpg', '23a8c6255a810cb11777243d2f829f9d.jpg', 'c6526bde2340b425c5026277d66e53c0.jpg', '241130d7f76667efb1ea930470e640b8.jpg', 'd01663c0f97d9a8a41b6684bd78769cf.jpg', 'eb36f3bd6463fe825b33122f8862035c.jpg', '6165df26e0ad88bdf04047aa2e0a48b0.jpg', '9b12922f219772c340af1f835e9d7b8d.jpg', 'f5d58cbe15b38e9f8a7102f049fa6c5d.jpg', '87502d8f3697b9644166115ba94aef49.jpg', 'c919aa6d064e12bca31d7d0e1db07d01 (1).jpg', 'f4564371b124cb09773d402676defcb5.jpg', '9827a8ae2b013a38ddab3144aa8f09cc.jpg', '395c5793a6cc579d54030d475dec88fb.jpg', '3aca08f8111bf9b1fd64453c64fe0c53.jpg', '192a14db54bc30506d7a6cd9ae6cf457.jpg', 'da214b86a2e427e2cdb586c4703262e4.jpg', 'd73fb16bd24618d172099ccd4a1ad640.jpg', '4a104d6cca31c2640be1e0e62de9e394.jpg', '5947cb7449ab9ef0abd849c5636357d9 (1).jpg', 'fee5b7390df248c722017bca23322075.jpg', '5832427213f6491cf66ef8494c7fe4fe.jpg', '60b8d6b7e7c8b26e30ac5cca06f3f581.jpg', '6db3b5cd3dd5aad4a289838d9038ce67.jpg', 'c3eef8e9f4b0f8833742b3c011698630.jpg', 'fd7aa309ca76864bf75185e59b2b3958.jpg', '53768f105a35d5f124d8634353abf1ca.jpg', '9081a135d74fd60b37d08fec2b8ccbe4.jpg', '279742ced381051fc1ae42d082faaf2f.jpg', 'a0deac6413743127fade7d14247dc826.jpg', '837d01b7102016e806ecb497938d644e.jpg', '4cd8554ddc3f39588d0e14d164640b29.jpg', 'ac6316a74e15cbce41e524ea0fbea88e.jpg', '539eccf1d602094a19b057ce7b40ec2b.jpg', 'c85da32dee7348b90e009a41bfa4769f.jpg', '7f2715498fcbf69ed9bc05ffe87a0a83.jpg', '312449c9326c19da048e2ea44a7515eb.jpg', '4ff16b870dafbe4364301352049c39dd.jpg', '7277c6a933c420594aba0ee5f467e76a.jpg', '551aa29db8af4e16c342c99ae170ac81.jpg', '2ba7d13e2663ee190f7052fb2f7c09f4.jpg', '5947cb7449ab9ef0abd849c5636357d9.jpg', '1611d8ffa8dc62a79f9365951c60f631.jpg', '88bd8a3cd265785f650c826f45ac5796.jpg', '1342f92da557986af5869de9b2d2d1c5.jpg', 'ba69d689332bb70b98427a5aae443a6f.jpg', '366708d8553b85106e3ccf88c64122fc.jpg', 'fafc651079a292f68562d0592f93aa8d.jpg', '6e7b2a0cf2660e7fd4122e48940c9602.jpg', '95627059d2449e905707e9e851413ac0.jpg', 'f7ae3950fdae1ab5e3104d455d0e6620.jpg', 'fdf6dd853adc5d663daf67b0f5cbb9ce.jpg', '990ed792db48dc30f1da249d3209bf02.jpg', 'bd7e004fff0ee427d0f905bcb0c0c403.jpg', '68cbf40113d88a2a6a63b937740a292f.jpg', 'a4920056122a0204e917937f47099a8c.jpg', '327c2b177729f935e71bc0208b2e235a.jpg', 'fddbbcbbe9583209b3967226eada977e.jpg', 'a14421ffef8b8bcaf18ff7f24081f164.jpg', '3ae1a3480959cc427faacfcf27f70dd4.jpg', 'dba11f60c7b927790ae6e93bd20aa2d8.jpg', '4b76c0621818a2c2bff6f3c2b23d8a72.jpg', 'bf8cc73576f17fdc90bac18c2b00fd36.jpg', '3aa074671b7543c29d4893c32b72a3d6.jpg', 'a7a7b07ec3b37ac7c750033f0e88cdff.jpg', '1a05e26be0e622f3505dfc0277a6f991.jpg', '8c69ca05824c0485ddc2434b2e886740.jpg', '9c0dcba4f3a3d6d90816e6105f565746.jpg', 'ae248e8fb9d98bf482305a7d9762f5e9.jpg', '6daea4b4340cad8044390d396ea4e15b.jpg', '43bd8e887f1d656af7ac3e7d4e627755.jpg', '1cf10b7f6f5155d87bba0d4714922f96.jpg', '822796df880966801ecc30060024c2c2.jpg', '000c3b7d816d15afd0a426487ea8773f.jpg', '140fd45f426788f88ef26a211c4ea4aa.jpg', '3270a04e0cbbdcc5f62b5245c0cc8ec6.jpg', 'e43ef99ad412d3925e57b17bdb20eebb.jpg', '74dacc05b1f38276d57ae85cf9b33356.jpg']\n",
            "Files in the 'Unhealthy Food' folder:\n",
            "['e6055339e2c3002172e6afbd849bf572.jpg', 'e58d56f86f509223cf7f845bbf5f46ee.jpg', 'af7daf6d1b1c8f0ba4167a1f11fdf255.jpg', '28cb6615d4effb23b025a66f2ecf8487.jpg', '1dd7273490ccc05321554455f5d75663.jpg', '59cace00657d9bfbc6637cb51e4801cb.jpg', '2e29f7f6084c76a3b8ea7a77f66acfa6.jpg', '236c6c2a96ce6ea7d49bc450ee379e46.jpg', '7feb7104e43ddb86f88161b9f8ad51de.jpg', '0c015aa3ffe40661297c31ec1548efb2.jpg', '9708c41827830379105169db232ac85b.jpg', '617b85a46cd88e34d753e9b5915a392c.jpg', '7223deaa0bbbc0e688d41af568034c31.jpg', '903aa8354bf313a0f3a80c87da51c282.jpg', 'img_d9a2d9a0d9a1d9a8d9a1d9a0d9a2d9a0_d9a1d9a5d9a1d9a0d9a2d9a31.jpg', '53ffe9a34ca87bd6dee7d39e241c4f4f.jpg', '7a32419afdf3d4e23299385f67a55162.jpg', '0539f2db6f52baedc291d92ea2c33f1d.jpg', 'a7a52591fb5770620902b86cb7ccb920.jpg', 'd9e92adc52f78934ae90c94a70c4d7ce.jpg', 'acca48c460cb382cb5d5ebc37a4f5443.jpg', 'a4f3ab79f7a0c0346fdc58a89ba54edb.jpg', '9493941c511bfc8c7c53cedbd2609ee5.jpg', 'bccd344a29d26ac25cb5d7f0b5f1e278.jpg', '7de91baf1ce3d19411b342b623edc4e4.jpg', '78404142ceb8266ec4925301dad0e7c3.jpg', 'bbeafb2a2e524476839b2a2c9e041c59.jpg', 'de63aa036e0624d9dd0d9e8c3106d213.jpg', '00c55083a210e402f6c4c49bf0c8abd0.jpg', '3b92f99cc332ce8997f6479be2bcb2e8.jpg', '9444176ade15dedf878ff77f56736e0b.jpg', 'img_d9a2d9a0d9a1d9a8d9a1d9a0d9a2d9a0_d9a1d9a5d9a1d9a0d9a1d9a31.jpg', 'f70562820a0fb353b4729da20c03c29c.jpg', '8d04c3a10dc1bed4a82ac323955b105d.jpg', '2f4a25eb2a1bd5e1e98ae206fab9d506.jpg', 'b71337e8933dc828c03379adba7e77ab.jpg', '14927aa204b77c6800ae9cf13d08e2f5.jpg', '00b0abbefdb946893836ba397bc4cd84.jpg', '53065209b6a73d37a1696e30b935a24d.jpg', '7a757acb2a52eb973eb7c805e953442f.jpg', '97d4fafa1918dc799887379c2595b7a1.jpg', 'aa2257602f74911b52c9bc7245297671.jpg', '0b340572dd27611562a92333c430f278.jpg', 'f3d1774998110221fbe6df73397a2b12.jpg', 'f1a067df-a930-4e8a-b07d-de24a0c65e56.png', '9d5c3ce8e194e6462b0cf8bdd01bc2c2.jpg', 'ec132418a9ce1608d3cf2f8248a84f19.jpg', 'f0aba901ae87cd2f7cb04bf7c5ea4a78.jpg', 'b1f8bd560e0b68eead56e64b38d79535.jpg', '2e615816d7a6a2d7a2d28bb4b1f79f4e.jpg', '51de25c1674b1c4162b4f89f6a1dc452.jpg', 'a1bd58f058b11da7be2b848ed63a96e5.jpg', 'a7b5f60004cc5e0117d1503216354a77.jpg', '9a12e1f20c20b440fe2a42822a136eda.jpg', 'cb26bc994fb81f1ac1fcc982779decdf.jpg', '366948ad2f3e0b37ca4308f8bf603459.jpg', '6b4fdfd1659c0097e744cec06a2d19a4.jpg', 'c2090021eabe6688c3271c97dfefa7f7.jpg', '775c76d3857a0ea00502b7c68a79a0e6.jpg', 'd89fd53131b05766477bb9026f77cbe3.jpg', '529ec1ade5ef70a3f6ae28e513afa4e4.jpg', 'bd400e77808938552cbdb745e0189640.jpg', '7c43203ff342b6bfecf3dd10ec244e7c.jpg.webp', '6667365ca8d466856616833d2cd18897.jpg', 'fe9fc10565de37cf79d2a04011238092.jpg', '63bb925a49ac3dcc9191958e3a62462a.jpg', '3e9ca35474538a532787bd6a3e3589e9.jpg', '200ed9932cf85756f4a3042552700363.jpg', 'a40da31393579a0b7a3a6e78c258e867.jpg', '6019f4e85168f1938627b817e73d5de4.jpg', 'f9235c3e813c5f88d84582ac43c82e38.jpg', '37ae0a9270042630eba88246db33af79.jpg', 'd97ac48a6b3ec91937457fe12ce77352.jpg', '2b4d3cb864f438486503b7fbec157630.jpg', '2289839e38297b735b18b2543fc270d8.jpg', 'c33b25401ec24de379ec294cb8924c22.jpg', 'e3d09a57dcc3819872f6f8e89b0211c7.jpg', 'd59a418563326f3b4ae2df2e78d0387d.jpg', 'd866d7ac8994a347979f68d82f639f44.jpg', '1e6b334b5702f995789e978b77e06c20.jpg', '1ab68878c018d6ba3d218438df76ffa7.jpg', '9308c076f7f9d45270a69d2746c57683.jpg', '3a56ae88dee663d977222b1f3fc5f42c.jpg', '0f36c79a4d1fb9d100a37c1e1a7195b0.jpg', 'fd1bfe4383112d754b1ad3cbdc4bb292.jpg', '3a5a65d5ea6407c409521996126dac4f.jpg', '3e56775013ccf35947c16a12252b2ee1.jpg', '2187430.jpg', '6266cd26260dcb6b47edf945515632a0.jpg', '2f0cb0073774332c894bfc6ffd65d599.jpg', '57a6ec4151cc247d359087e9ddf2bd11.jpg', '7927214efed292245abebd2562683712.jpg', '23e8f136960560aea2c6d066fd74b255.jpg', '59e734e9f965c428d7e76ca3fcc08a35.jpg', '55f3a11ba727c52cef89c8e15193203d.jpg', 'a6ee20d15707fe84e835ba7d10c783bf.jpg', '150844fb39b9a36d10435cb2a5fb333b.jpg', 'cee2d803565606a2e8ef99ee04651d32.jpg', '7c0f315f9f261655e32a20d96f123dc3.jpg', '0633032d6ef02dc07ed61cb88f38e67b.jpg', '36f7cf8038ace44d61b690f52edd63e2.jpg', '5-kinds-unhealthy-food.jpg', '9dff2cb9773c197aaca17c861391f30a.jpg', 'cc0789d1496dc457fb920137ce6a3b2a.jpg', '1c4a77d58dbaff07fc7124b03e3c52c6.jpg', 'd2e61a2c999b44dc1f335e8a04bb005e.jpg', 'bfa003ec9dfdf59bb47dbd032dcd78ee.jpg', 'pngtree-the-food-that-is-unhealthy-image_13157033.png', '86b53787a853c1dd9282a5947b09af65.jpg', '01b4eef717c9f381a9f8db3c2762c409.jpg', '7032e4e73d1f8640ce80e7e9e323c4fa.jpg', 'a3a9ad7022dd5d9773bb882ac3665376.jpg', '07f7163676285a56374a7298f9354abe.jpg', 'a3b473036e9ed17768840d8d87d6fb4a.jpg', 'c79bdb3890b054349a1823019ae780ba.jpg']\n"
          ]
        }
      ]
    },
    {
      "cell_type": "code",
      "source": [
        "from tensorflow.keras.preprocessing.image import ImageDataGenerator\n",
        "\n",
        "data_path = \"/content/dataset\"\n",
        "\n",
        "datagen = ImageDataGenerator(\n",
        "    rescale=1./255, validation_split=0.2\n",
        "    )\n",
        "\n",
        "train_data = datagen.flow_from_directory( data_path, target_size=(128, 128), batch_size=32, class_mode='binary', subset='training' )\n",
        "\n",
        "val_data = datagen.flow_from_directory( data_path, target_size=(128, 128), batch_size=32, class_mode='binary', subset='validation' )\n",
        "\n",
        "print(\"Data loaded successfully!\")"
      ],
      "metadata": {
        "colab": {
          "base_uri": "https://localhost:8080/"
        },
        "id": "GMAi8kgJhHGP",
        "outputId": "92db9bd8-c62a-4658-fc3b-94c6359aef47"
      },
      "execution_count": null,
      "outputs": [
        {
          "output_type": "stream",
          "name": "stdout",
          "text": [
            "Found 184 images belonging to 2 classes.\n",
            "Found 45 images belonging to 2 classes.\n",
            "Data loaded successfully!\n"
          ]
        }
      ]
    },
    {
      "cell_type": "code",
      "source": [
        "from tensorflow.keras.models import Sequential\n",
        "from tensorflow.keras.layers import Conv2D, MaxPooling2D, Flatten, Dense, Dropout\n",
        "\n",
        "#Building the model\n",
        "\n",
        "model = Sequential([\n",
        "Conv2D(32, (3, 3), activation='relu', input_shape=(128, 128, 3)),\n",
        "MaxPooling2D((2, 2)),\n",
        "Conv2D(64, (3, 3), activation='relu'),\n",
        "MaxPooling2D((2, 2)),\n",
        "Conv2D(128, (3, 3), activation='relu'),\n",
        "MaxPooling2D((2, 2)),\n",
        "Flatten(),\n",
        "Dense(128, activation='relu'),\n",
        "Dropout(0.5),\n",
        "Dense(1, activation='sigmoid')  # Binary output\n",
        "])\n",
        "\n",
        "#Display model summary\n",
        "\n",
        "#model.summary()"
      ],
      "metadata": {
        "colab": {
          "base_uri": "https://localhost:8080/"
        },
        "id": "semxQRb9jrUf",
        "outputId": "75fb7a6b-d660-483d-ee73-794adfd210bd"
      },
      "execution_count": null,
      "outputs": [
        {
          "output_type": "stream",
          "name": "stderr",
          "text": [
            "/usr/local/lib/python3.10/dist-packages/keras/src/layers/convolutional/base_conv.py:107: UserWarning: Do not pass an `input_shape`/`input_dim` argument to a layer. When using Sequential models, prefer using an `Input(shape)` object as the first layer in the model instead.\n",
            "  super().__init__(activity_regularizer=activity_regularizer, **kwargs)\n"
          ]
        }
      ]
    },
    {
      "cell_type": "code",
      "source": [
        "model.compile(\n",
        "      optimizer='adam',\n",
        "          loss='binary_crossentropy',\n",
        "              metrics=['accuracy']\n",
        "              )"
      ],
      "metadata": {
        "id": "gF--M98WkivM"
      },
      "execution_count": null,
      "outputs": []
    },
    {
      "cell_type": "code",
      "source": [
        "history = model.fit(\n",
        "      train_data,\n",
        "          validation_data=val_data,\n",
        "              epochs=10,\n",
        "                  batch_size=32\n",
        "                  )"
      ],
      "metadata": {
        "colab": {
          "base_uri": "https://localhost:8080/"
        },
        "id": "lQ8uE5Z3k4U1",
        "outputId": "138aa389-5e15-44fb-b3c9-3e4cdb11601e"
      },
      "execution_count": null,
      "outputs": [
        {
          "output_type": "stream",
          "name": "stdout",
          "text": [
            "Epoch 1/10\n",
            "\u001b[1m6/6\u001b[0m \u001b[32m━━━━━━━━━━━━━━━━━━━━\u001b[0m\u001b[37m\u001b[0m \u001b[1m11s\u001b[0m 2s/step - accuracy: 0.9195 - loss: 0.1583 - val_accuracy: 0.9111 - val_loss: 0.2151\n",
            "Epoch 2/10\n",
            "\u001b[1m6/6\u001b[0m \u001b[32m━━━━━━━━━━━━━━━━━━━━\u001b[0m\u001b[37m\u001b[0m \u001b[1m19s\u001b[0m 1s/step - accuracy: 0.8873 - loss: 0.2166 - val_accuracy: 0.9111 - val_loss: 0.1826\n",
            "Epoch 3/10\n",
            "\u001b[1m6/6\u001b[0m \u001b[32m━━━━━━━━━━━━━━━━━━━━\u001b[0m\u001b[37m\u001b[0m \u001b[1m9s\u001b[0m 1s/step - accuracy: 0.9380 - loss: 0.1462 - val_accuracy: 0.9333 - val_loss: 0.1733\n",
            "Epoch 4/10\n",
            "\u001b[1m6/6\u001b[0m \u001b[32m━━━━━━━━━━━━━━━━━━━━\u001b[0m\u001b[37m\u001b[0m \u001b[1m9s\u001b[0m 1s/step - accuracy: 0.9697 - loss: 0.1007 - val_accuracy: 0.9111 - val_loss: 0.1636\n",
            "Epoch 5/10\n",
            "\u001b[1m6/6\u001b[0m \u001b[32m━━━━━━━━━━━━━━━━━━━━\u001b[0m\u001b[37m\u001b[0m \u001b[1m11s\u001b[0m 1s/step - accuracy: 0.9435 - loss: 0.1503 - val_accuracy: 0.9111 - val_loss: 0.1985\n",
            "Epoch 6/10\n",
            "\u001b[1m6/6\u001b[0m \u001b[32m━━━━━━━━━━━━━━━━━━━━\u001b[0m\u001b[37m\u001b[0m \u001b[1m17s\u001b[0m 2s/step - accuracy: 0.9626 - loss: 0.1037 - val_accuracy: 0.8889 - val_loss: 0.2394\n",
            "Epoch 7/10\n",
            "\u001b[1m6/6\u001b[0m \u001b[32m━━━━━━━━━━━━━━━━━━━━\u001b[0m\u001b[37m\u001b[0m \u001b[1m8s\u001b[0m 1s/step - accuracy: 0.9889 - loss: 0.0653 - val_accuracy: 0.9333 - val_loss: 0.1571\n",
            "Epoch 8/10\n",
            "\u001b[1m6/6\u001b[0m \u001b[32m━━━━━━━━━━━━━━━━━━━━\u001b[0m\u001b[37m\u001b[0m \u001b[1m10s\u001b[0m 1s/step - accuracy: 0.9730 - loss: 0.0477 - val_accuracy: 0.8889 - val_loss: 0.2079\n",
            "Epoch 9/10\n",
            "\u001b[1m6/6\u001b[0m \u001b[32m━━━━━━━━━━━━━━━━━━━━\u001b[0m\u001b[37m\u001b[0m \u001b[1m9s\u001b[0m 1s/step - accuracy: 0.9745 - loss: 0.0573 - val_accuracy: 0.9111 - val_loss: 0.2487\n",
            "Epoch 10/10\n",
            "\u001b[1m6/6\u001b[0m \u001b[32m━━━━━━━━━━━━━━━━━━━━\u001b[0m\u001b[37m\u001b[0m \u001b[1m8s\u001b[0m 1s/step - accuracy: 0.9818 - loss: 0.0594 - val_accuracy: 0.9111 - val_loss: 0.1969\n"
          ]
        }
      ]
    },
    {
      "cell_type": "code",
      "source": [
        "evaluation = model.evaluate(val_data)\n",
        "print(f\"Validation Loss: {evaluation[0]}\")\n",
        "print(f\"Validation Accuracy: {evaluation[1]}\")"
      ],
      "metadata": {
        "colab": {
          "base_uri": "https://localhost:8080/"
        },
        "id": "Pj3ijdENmRaw",
        "outputId": "f5971b63-9c27-4ec6-b99e-23e9046d148c"
      },
      "execution_count": null,
      "outputs": [
        {
          "output_type": "stream",
          "name": "stdout",
          "text": [
            "\u001b[1m2/2\u001b[0m \u001b[32m━━━━━━━━━━━━━━━━━━━━\u001b[0m\u001b[37m\u001b[0m \u001b[1m1s\u001b[0m 165ms/step - accuracy: 0.9199 - loss: 0.1986\n",
            "Validation Loss: 0.19685915112495422\n",
            "Validation Accuracy: 0.9111111164093018\n"
          ]
        }
      ]
    },
    {
      "cell_type": "code",
      "source": [
        "model.save(\"food_classification_model.h5\")\n",
        "print(\"Model saved successfully!\")"
      ],
      "metadata": {
        "colab": {
          "base_uri": "https://localhost:8080/"
        },
        "id": "bfUWaoSsmgU9",
        "outputId": "a930a202-be68-4f08-b172-636aa1569762"
      },
      "execution_count": null,
      "outputs": [
        {
          "output_type": "stream",
          "name": "stderr",
          "text": [
            "WARNING:absl:You are saving your model as an HDF5 file via `model.save()` or `keras.saving.save_model(model)`. This file format is considered legacy. We recommend using instead the native Keras format, e.g. `model.save('my_model.keras')` or `keras.saving.save_model(model, 'my_model.keras')`. \n"
          ]
        },
        {
          "output_type": "stream",
          "name": "stdout",
          "text": [
            "Model saved successfully!\n"
          ]
        }
      ]
    }
  ]
}